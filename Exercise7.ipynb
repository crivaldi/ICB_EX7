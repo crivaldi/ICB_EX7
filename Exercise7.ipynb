{
 "cells": [
  {
   "cell_type": "code",
   "execution_count": 17,
   "metadata": {},
   "outputs": [
    {
     "name": "stdout",
     "output_type": "stream",
     "text": [
      "     Sepal.Length  Sepal.Width  Petal.Length  Petal.Width     Species\n",
      "1             4.9          3.0           1.4          0.2      setosa\n",
      "3             4.6          3.1           1.5          0.2      setosa\n",
      "5             5.4          3.9           1.7          0.4      setosa\n",
      "7             5.0          3.4           1.5          0.2      setosa\n",
      "9             4.9          3.1           1.5          0.1      setosa\n",
      "11            4.8          3.4           1.6          0.2      setosa\n",
      "13            4.3          3.0           1.1          0.1      setosa\n",
      "15            5.7          4.4           1.5          0.4      setosa\n",
      "17            5.1          3.5           1.4          0.3      setosa\n",
      "19            5.1          3.8           1.5          0.3      setosa\n",
      "21            5.1          3.7           1.5          0.4      setosa\n",
      "23            5.1          3.3           1.7          0.5      setosa\n",
      "25            5.0          3.0           1.6          0.2      setosa\n",
      "27            5.2          3.5           1.5          0.2      setosa\n",
      "29            4.7          3.2           1.6          0.2      setosa\n",
      "31            5.4          3.4           1.5          0.4      setosa\n",
      "33            5.5          4.2           1.4          0.2      setosa\n",
      "35            5.0          3.2           1.2          0.2      setosa\n",
      "37            4.9          3.6           1.4          0.1      setosa\n",
      "39            5.1          3.4           1.5          0.2      setosa\n",
      "41            4.5          2.3           1.3          0.3      setosa\n",
      "43            5.0          3.5           1.6          0.6      setosa\n",
      "45            4.8          3.0           1.4          0.3      setosa\n",
      "47            4.6          3.2           1.4          0.2      setosa\n",
      "49            5.0          3.3           1.4          0.2      setosa\n",
      "51            6.4          3.2           4.5          1.5  versicolor\n",
      "53            5.5          2.3           4.0          1.3  versicolor\n",
      "55            5.7          2.8           4.5          1.3  versicolor\n",
      "57            4.9          2.4           3.3          1.0  versicolor\n",
      "59            5.2          2.7           3.9          1.4  versicolor\n",
      "..            ...          ...           ...          ...         ...\n",
      "91            6.1          3.0           4.6          1.4  versicolor\n",
      "93            5.0          2.3           3.3          1.0  versicolor\n",
      "95            5.7          3.0           4.2          1.2  versicolor\n",
      "97            6.2          2.9           4.3          1.3  versicolor\n",
      "99            5.7          2.8           4.1          1.3  versicolor\n",
      "101           5.8          2.7           5.1          1.9   virginica\n",
      "103           6.3          2.9           5.6          1.8   virginica\n",
      "105           7.6          3.0           6.6          2.1   virginica\n",
      "107           7.3          2.9           6.3          1.8   virginica\n",
      "109           7.2          3.6           6.1          2.5   virginica\n",
      "111           6.4          2.7           5.3          1.9   virginica\n",
      "113           5.7          2.5           5.0          2.0   virginica\n",
      "115           6.4          3.2           5.3          2.3   virginica\n",
      "117           7.7          3.8           6.7          2.2   virginica\n",
      "119           6.0          2.2           5.0          1.5   virginica\n",
      "121           5.6          2.8           4.9          2.0   virginica\n",
      "123           6.3          2.7           4.9          1.8   virginica\n",
      "125           7.2          3.2           6.0          1.8   virginica\n",
      "127           6.1          3.0           4.9          1.8   virginica\n",
      "129           7.2          3.0           5.8          1.6   virginica\n",
      "131           7.9          3.8           6.4          2.0   virginica\n",
      "133           6.3          2.8           5.1          1.5   virginica\n",
      "135           7.7          3.0           6.1          2.3   virginica\n",
      "137           6.4          3.1           5.5          1.8   virginica\n",
      "139           6.9          3.1           5.4          2.1   virginica\n",
      "141           6.9          3.1           5.1          2.3   virginica\n",
      "143           6.8          3.2           5.9          2.3   virginica\n",
      "145           6.7          3.0           5.2          2.3   virginica\n",
      "147           6.5          3.0           5.2          2.0   virginica\n",
      "149           5.9          3.0           5.1          1.8   virginica\n",
      "\n",
      "[75 rows x 5 columns]\n"
     ]
    }
   ],
   "source": [
    "#Question 1: Print Odd CSV Rows\n",
    "import pandas as pd\n",
    "data = pd.read_csv('iris.csv')\n",
    "def odd_rows(odd):\n",
    "    return (odd[1::2])\n",
    "print odd_rows(data)"
   ]
  },
  {
   "cell_type": "code",
   "execution_count": 147,
   "metadata": {},
   "outputs": [
    {
     "name": "stdout",
     "output_type": "stream",
     "text": [
      "versicolor    50\n",
      "Name: Species, dtype: int64\n"
     ]
    }
   ],
   "source": [
    "#Return number of observations for a given species in the data set\n",
    "import pandas as pd\n",
    "data = pd.read_csv('iris.csv')\n",
    "\n",
    "def species_count(species):\n",
    "    speciesrows=data[data.Species.str.contains(species)]\n",
    "    return speciesrows['Species'].value_counts()\n",
    "\n",
    "\n",
    "print species_count('versicolor')"
   ]
  },
  {
   "cell_type": "code",
   "execution_count": 30,
   "metadata": {},
   "outputs": [
    {
     "name": "stdout",
     "output_type": "stream",
     "text": [
      "     Sepal.Length  Sepal.Width  Petal.Length  Petal.Width    Species\n",
      "4             5.0          3.6           1.4          0.2     setosa\n",
      "5             5.4          3.9           1.7          0.4     setosa\n",
      "10            5.4          3.7           1.5          0.2     setosa\n",
      "14            5.8          4.0           1.2          0.2     setosa\n",
      "15            5.7          4.4           1.5          0.4     setosa\n",
      "16            5.4          3.9           1.3          0.4     setosa\n",
      "18            5.7          3.8           1.7          0.3     setosa\n",
      "19            5.1          3.8           1.5          0.3     setosa\n",
      "21            5.1          3.7           1.5          0.4     setosa\n",
      "22            4.6          3.6           1.0          0.2     setosa\n",
      "32            5.2          4.1           1.5          0.1     setosa\n",
      "33            5.5          4.2           1.4          0.2     setosa\n",
      "37            4.9          3.6           1.4          0.1     setosa\n",
      "44            5.1          3.8           1.9          0.4     setosa\n",
      "46            5.1          3.8           1.6          0.2     setosa\n",
      "48            5.3          3.7           1.5          0.2     setosa\n",
      "109           7.2          3.6           6.1          2.5  virginica\n",
      "117           7.7          3.8           6.7          2.2  virginica\n",
      "131           7.9          3.8           6.4          2.0  virginica\n"
     ]
    }
   ],
   "source": [
    "#Return a dataframe for Sepal flowers with width >3.5\n",
    "\n",
    "import pandas as pd\n",
    "data = pd.read_csv('iris.csv')\n",
    "\n",
    "def sepal_size(width):\n",
    "    return (data[data['Sepal.Width'] > width])\n",
    "\n",
    "print sepal_size(3.5)"
   ]
  },
  {
   "cell_type": "code",
   "execution_count": 148,
   "metadata": {},
   "outputs": [
    {
     "name": "stdout",
     "output_type": "stream",
     "text": [
      "None\n"
     ]
    }
   ],
   "source": [
    "#Write data for a given file to a comma-delimited file with the given species name as the file name\n",
    "import pandas\n",
    "df = pandas.read_csv('iris.csv')\n",
    "\n",
    "def new_species_file(species):\n",
    "    name=df[df.Species.str.contains(species)]\n",
    "    return (name.to_csv(path_or_buf='species2.csv', sep=','))\n",
    "\n",
    "print new_species_file('versicolor')"
   ]
  }
 ],
 "metadata": {
  "kernelspec": {
   "display_name": "Python 2",
   "language": "python",
   "name": "python2"
  },
  "language_info": {
   "codemirror_mode": {
    "name": "ipython",
    "version": 2
   },
   "file_extension": ".py",
   "mimetype": "text/x-python",
   "name": "python",
   "nbconvert_exporter": "python",
   "pygments_lexer": "ipython2",
   "version": "2.7.15"
  }
 },
 "nbformat": 4,
 "nbformat_minor": 2
}
